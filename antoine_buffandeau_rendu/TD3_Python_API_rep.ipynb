{
 "cells": [
  {
   "cell_type": "markdown",
   "metadata": {},
   "source": [
    "# Python with APIs\n",
    "Exchanges via HTTP using `requests` package"
   ]
  },
  {
   "cell_type": "code",
   "execution_count": 29,
   "metadata": {},
   "outputs": [],
   "source": [
    "import requests"
   ]
  },
  {
   "cell_type": "markdown",
   "metadata": {},
   "source": [
    "## Example"
   ]
  },
  {
   "cell_type": "markdown",
   "metadata": {},
   "source": [
    "### Agify API"
   ]
  },
  {
   "cell_type": "markdown",
   "metadata": {},
   "source": [
    "Example route for Agify API"
   ]
  },
  {
   "cell_type": "code",
   "execution_count": 30,
   "metadata": {},
   "outputs": [],
   "source": [
    "agify_dan = \"https://api.agify.io/?name=dan\""
   ]
  },
  {
   "cell_type": "markdown",
   "metadata": {},
   "source": [
    "Extract response"
   ]
  },
  {
   "cell_type": "code",
   "execution_count": 31,
   "metadata": {},
   "outputs": [
    {
     "name": "stdout",
     "output_type": "stream",
     "text": [
      "Answer status_code: <Response [200]>\n",
      "<class 'str'>\n",
      "<class 'dict'>\n",
      "{\"count\":67782,\"name\":\"dan\",\"age\":66}\n",
      "{'count': 67782, 'name': 'dan', 'age': 66}\n"
     ]
    }
   ],
   "source": [
    "# Run a GET request\n",
    "agify_answer = requests.get(agify_dan)\n",
    "agify_answer_txt = agify_answer.text\n",
    "agify_answer_json = agify_answer.json()\n",
    "\n",
    "print(f\"Answer status_code: {agify_answer}\")\n",
    "\n",
    "print(type(agify_answer_txt))\n",
    "print(type(agify_answer_json))\n",
    "\n",
    "print(agify_answer_txt)\n",
    "print(agify_answer_json)"
   ]
  },
  {
   "cell_type": "markdown",
   "metadata": {},
   "source": [
    "## Introductory Exercises"
   ]
  },
  {
   "cell_type": "code",
   "execution_count": 32,
   "metadata": {},
   "outputs": [
    {
     "name": "stdout",
     "output_type": "stream",
     "text": [
      "Hello jacob! Based on the name, you might be around 38 years old.\n",
      "Hello antoine! Based on the name, you might be around 55 years old.\n",
      "Hello valentin! Based on the name, you might be around 45 years old.\n",
      "Hello emma! Based on the name, you might be around 41 years old.\n"
     ]
    }
   ],
   "source": [
    "# Exercise 1\n",
    "# Write a script that asks the user for their first name\n",
    "# and responds with a personalized message\n",
    "# using the agify API\n",
    "\n",
    "# https://api.agify.io/?name=YOUR_NAME\n",
    "# Example response: {\"name\":\"YOUR_NAME\",\"age\":30,\"count\":12345}\n",
    "\n",
    "#######################################################\n",
    "################## YOUR ANSWER HERE ##################\n",
    "#######################################################\n",
    "def get_info(name, url_link, parameter):\n",
    "    url = f\"{url_link}{name}\"\n",
    "    response = requests.get(url)\n",
    "    if response.status_code == 200:\n",
    "        data = response.json()\n",
    "        return data.get(parameter)\n",
    "    else:\n",
    "        return None\n",
    "\n",
    "def exo1(first_names, name_url):\n",
    "    parameter = 'age'\n",
    "    for name in first_names:\n",
    "        age = get_info(name, name_url, parameter) \n",
    "        if age:\n",
    "            print(f\"Hello {name}! Based on the name, you might be around {age} years old.\")\n",
    "        else:\n",
    "            print(f\"Sorry, we couldn't retrieve {name}'s age.\")\n",
    "\n",
    "first_names = [\"jacob\", \"antoine\", \"valentin\", \"emma\"]\n",
    "name_url = \"https://api.agify.io/?name=\"\n",
    "exo1(first_names, name_url)"
   ]
  },
  {
   "cell_type": "code",
   "execution_count": 46,
   "metadata": {},
   "outputs": [
    {
     "name": "stdout",
     "output_type": "stream",
     "text": [
      "Hello jacob! Based on the name, you might be a male.\n",
      "Hello antoine! Based on the name, you might be a male.\n",
      "Hello valentin! Based on the name, you might be a male.\n",
      "Hello emma! Based on the name, you might be a female.\n"
     ]
    }
   ],
   "source": [
    "# Exercise 2\n",
    "# Write a script that asks the user for their first name\n",
    "# and responds with a personalized message\n",
    "# using the genderize API\n",
    "# https://api.genderize.io/?name=YOUR_NAME\n",
    "\n",
    "#######################################################\n",
    "################## YOUR ANSWER HERE ##################\n",
    "#######################################################\n",
    "def exo2(first_names, name_url):\n",
    "    parameter = \"gender\"\n",
    "    for name in first_names:\n",
    "        gender = get_info(name, name_url, parameter) \n",
    "        if gender:\n",
    "            print(f\"Hello {name}! Based on the name, you might be a {gender}.\")\n",
    "        else:\n",
    "            print(f\"Sorry, we couldn't retrieve {name}'s age.\")\n",
    "\n",
    "gender_url = \"https://api.genderize.io/?name=\"\n",
    "exo2(first_names, gender_url)"
   ]
  },
  {
   "cell_type": "code",
   "execution_count": 48,
   "metadata": {},
   "outputs": [
    {
     "name": "stdout",
     "output_type": "stream",
     "text": [
      "Hello jacob! Based on the name, you might have connections to the following countries: AE, NG, IN, KW, QA.\n",
      "Hello antoine! Based on the name, you might have connections to the following countries: HT, BE, FR, TT, CI.\n",
      "Hello valentin! Based on the name, you might have connections to the following countries: RO, PR, DK, PE, FR.\n",
      "Hello emma! Based on the name, you might have connections to the following countries: CN, UG, NG, GH, CM.\n"
     ]
    }
   ],
   "source": [
    "# Exercise 3\n",
    "# Write a script that asks the user for their first name\n",
    "# and responds with a personalized message\n",
    "# using the nationalize API\n",
    "# https://api.nationalize.io/?name=YOUR_NAME\n",
    "\n",
    "#######################################################\n",
    "################## YOUR ANSWER HERE ##################\n",
    "#######################################################\n",
    "def exo3(first_names, name_url):\n",
    "    parameter = \"country\"\n",
    "    for name in first_names:\n",
    "        nationality_data = get_info(name, name_url, parameter) \n",
    "        if nationality_data:\n",
    "            countries = [entry['country_id'] for entry in nationality_data]\n",
    "            print(f\"Hello {name}! Based on the name, you might have connections to the following countries: {', '.join(countries)}.\")\n",
    "        else:\n",
    "            print(\"Sorry, we couldn't determine your nationality.\")\n",
    "\n",
    "\n",
    "nation_url = \"https://api.nationalize.io/?name=\"\n",
    "exo3(first_names, nation_url)"
   ]
  },
  {
   "cell_type": "code",
   "execution_count": 51,
   "metadata": {},
   "outputs": [
    {
     "name": "stdout",
     "output_type": "stream",
     "text": [
      "Hello jacob! Based on the name, you are most likely connected to AE with a probability of 11.28%.\n",
      "Hello antoine! Based on the name, you are most likely connected to HT with a probability of 16.00%.\n",
      "Hello valentin! Based on the name, you are most likely connected to RO with a probability of 35.55%.\n",
      "Hello emma! Based on the name, you are most likely connected to CN with a probability of 16.46%.\n"
     ]
    }
   ],
   "source": [
    "# Exercise 3.1\n",
    "# Parsing the response from the nationalize API\n",
    "# Get the most probable country and its percentage\n",
    "# Example response: {\"name\":\"YOUR_NAME\",\"country\":[{\"country_id\":\"FR\",\"probability\":0.75},{\"country_id\":\"BE\",\"probability\":0.25}]}\n",
    "# Hint: use the max() function with a lambda function\n",
    "# https://docs.python.org/3/library/functions.html#max\n",
    "# https://docs.python.org/3/tutorial/controlflow.html#lambda-expressions\n",
    "\n",
    "#######################################################\n",
    "################## YOUR ANSWER HERE ##################\n",
    "#######################################################\n",
    "def exo3_1(first_names, name_url):\n",
    "    parameter = \"country\"\n",
    "    for name in first_names:\n",
    "        nationality_data = get_info(name, name_url, parameter) \n",
    "        if nationality_data:\n",
    "            most_probable = max(nationality_data, key=lambda x: x['probability'])\n",
    "            country_id = most_probable['country_id']\n",
    "            probability = most_probable['probability']\n",
    "            print(f\"Hello {name}! Based on the name, you are most likely connected to {country_id} with a probability of {probability:.2%}.\")\n",
    "        else:\n",
    "            print(\"Sorry, we couldn't determine your nationality.\")\n",
    "\n",
    "exo3_1(first_names, nation_url)"
   ]
  },
  {
   "cell_type": "code",
   "execution_count": 36,
   "metadata": {},
   "outputs": [],
   "source": [
    "# Exercise 4\n",
    "# Use BoredAPI : https://www.boredapi.com/\n",
    "# Documentation : https://www.boredapi.com/documentation\n",
    "# 1. Write a script that generates random activities\n",
    "# 2. Write a script that generates random activities\n",
    "# 3. Write a script that generates random activities for 4 participants\n",
    "# 4. Write a script that generates random activities for 4 participants and of type \"recreational\"\n",
    "# 5. Write a script that generates random activities for 2 participants and that does not require equipment\n",
    "\n",
    "#######################################################\n",
    "################## YOUR ANSWER HERE ##################\n",
    "#######################################################\n",
    "def exo4_1(number, name_url):\n",
    "    for nb in number:\n",
    "        activity = get_info(nb, name_url) \n",
    "        if activity:\n",
    "            print(f\"Here's a random activity for 4 participants: {activity}\")\n",
    "        else:\n",
    "            print(\"Sorry, couldn't fetch a random activity for 4 participants.\")\n",
    "\n",
    "activity_wt = \"https://www.boredapi.com/api/activity/?participants=\" #without type\n",
    "nb_participant = [0,0,4,4,2]\n",
    "types =[\"recreational\"]\n",
    "exo4(nb_participant, nation_url)\n",
    "\n",
    "url_exo4_1 = \"https://www.boredapi.com/api/activity/\"\n",
    "url_exo4_2 = \"https://www.boredapi.com/api/activity/?participants=4\"\n",
    "url_exo4_3 = \"https://www.boredapi.com/api/activity/?participants=4\"\n",
    "url_exo4_4 = \"https://www.boredapi.com/api/activity?type=recreational&participants=4\"\n",
    "exo4_1(url_exo4_1)\n",
    "exo4_2(url_exo4_2)\n",
    "exo4_3(url_exo4_3)\n",
    "exo4_4(url_exo4_4)"
   ]
  },
  {
   "cell_type": "markdown",
   "metadata": {},
   "source": [
    "## Intermediate exercises"
   ]
  },
  {
   "cell_type": "code",
   "execution_count": 37,
   "metadata": {},
   "outputs": [],
   "source": [
    "# OpenDomesday\n",
    "# https://opendomesday.org/api/\n",
    "\n",
    "# Exercise 1\n",
    "# Write a script that displays all the counties  \n",
    "# using the OpenDomesday API.\n",
    "\n",
    "#######################################################\n",
    "################## YOUR ANSWER HERE ##################\n",
    "#######################################################\n"
   ]
  },
  {
   "cell_type": "code",
   "execution_count": 38,
   "metadata": {},
   "outputs": [],
   "source": [
    "# Exercise 2\n",
    "# Write a script that displays the information\n",
    "# of the county \"Derbyshire\".\n",
    "\n",
    "#######################################################\n",
    "################## YOUR ANSWER HERE ##################\n",
    "#######################################################\n"
   ]
  },
  {
   "cell_type": "code",
   "execution_count": 39,
   "metadata": {},
   "outputs": [],
   "source": [
    "# Exercise 3\n",
    "# Now that we have the ids for all the places in Derbyshire, we can load all their details...\n",
    "# And from their details, we can list all the details of their manors.\n",
    "# Go fetch the data!\n",
    "# P.S.: remember to save the data to avoid downloading it every time\n",
    "\n",
    "#######################################################\n",
    "################## YOUR ANSWER HERE ##################\n",
    "#######################################################\n"
   ]
  },
  {
   "cell_type": "code",
   "execution_count": 40,
   "metadata": {},
   "outputs": [],
   "source": [
    "# Exercise 4\n",
    "# Now that we have a quantity of raw data, we will extract the interesting parts.  \n",
    "# In our case, we want to count the money paid by each manor and compare it to the number of ploughs it has.  \n",
    "# - Can you find the corresponding json fields?  \n",
    "# - Then, you can list these numbers for each manor in Derbyshire.  \n",
    "# - And format this in an appropriate comma-separated values (CSV) file.\n",
    "\n",
    "#######################################################\n",
    "################## YOUR ANSWER HERE ##################\n",
    "#######################################################\n",
    "\n"
   ]
  },
  {
   "cell_type": "code",
   "execution_count": 41,
   "metadata": {},
   "outputs": [],
   "source": [
    "# Exercise 5\n",
    "# What is the richest manor in Derbyshire?\n",
    "\n",
    "#######################################################\n",
    "################## YOUR ANSWER HERE ##################\n",
    "#######################################################\n"
   ]
  },
  {
   "cell_type": "code",
   "execution_count": 42,
   "metadata": {},
   "outputs": [],
   "source": [
    "# Exercise 6\n",
    "# Give the total value paid by Derbyshire.\n",
    "\n",
    "#######################################################\n",
    "################## YOUR ANSWER HERE ##################\n",
    "#######################################################\n"
   ]
  },
  {
   "cell_type": "code",
   "execution_count": 43,
   "metadata": {},
   "outputs": [],
   "source": [
    "# Exercise 7\n",
    "# Create a Python class.  \n",
    "# It must include all the previous functionalities.  \n",
    "# Refactor your code to make it readable, efficient, and maintainable.\n",
    "\n",
    "#######################################################\n",
    "################## YOUR ANSWER HERE ##################\n",
    "#######################################################\n"
   ]
  },
  {
   "cell_type": "code",
   "execution_count": 44,
   "metadata": {},
   "outputs": [],
   "source": [
    "# Exercise 8 (optional)\n",
    "# Add to your class a system for error handling.  \n",
    "# It must manage the following errors:  \n",
    "# - Connection error  \n",
    "# - Parsing error  \n",
    "# - Request error  \n",
    "# - Response error  \n",
    "# - Parameter error\n",
    "\n",
    "#######################################################\n",
    "################## YOUR ANSWER HERE ##################\n",
    "#######################################################\n",
    "\n"
   ]
  }
 ],
 "metadata": {
  "kernelspec": {
   "display_name": "api",
   "language": "python",
   "name": "python3"
  },
  "language_info": {
   "codemirror_mode": {
    "name": "ipython",
    "version": 3
   },
   "file_extension": ".py",
   "mimetype": "text/x-python",
   "name": "python",
   "nbconvert_exporter": "python",
   "pygments_lexer": "ipython3",
   "version": "3.11.8"
  }
 },
 "nbformat": 4,
 "nbformat_minor": 2
}
